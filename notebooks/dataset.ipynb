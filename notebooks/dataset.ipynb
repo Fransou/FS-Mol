{
 "cells": [
  {
   "cell_type": "markdown",
   "id": "a0399aa5",
   "metadata": {},
   "source": [
    "# Using the FSMol Dataset\n",
    "\n",
    "The `FSMolDataset` provides access to the train/valid/test tasks of the few-shot dataset. An instance is created from the data directory by `FSMolDataset.from_directory(/path/to/dataset)` and access to the iterable over task files is given by `FSMolDataset.get_task_reading_iterable`. This allows specification of a callable to define how to read a list of task files, and permits multithreaded data loading. The default implementation returns an iterable over `FSMolTask` objects, each containing an entire task's of single featurised molecules, `MoleculeDatapoint`. "
   ]
  },
  {
   "cell_type": "code",
   "execution_count": null,
   "id": "126c96f3",
   "metadata": {},
   "outputs": [],
   "source": [
    "import os\n",
    "import sys\n",
    "\n",
    "sys.path.insert(0, os.path.join(os.getcwd(), \"../fs_mol\"))\n",
    "\n",
    "from data import FSMolDataset, DataFold"
   ]
  },
  {
   "cell_type": "code",
   "execution_count": null,
   "id": "42569871",
   "metadata": {},
   "outputs": [],
   "source": [
    "dataset = FSMolDataset.from_directory(os.path.join(os.getcwd(), \"../dataset/\")) # path to the dataset here\n",
    "test_task_iterable = dataset.get_task_reading_iterable(DataFold.TEST)"
   ]
  },
  {
   "cell_type": "code",
   "execution_count": null,
   "id": "bbbe4f78",
   "metadata": {},
   "outputs": [],
   "source": [
    "for i, task_sample in enumerate(test_task_iterable):\n",
    "    if i == 0:\n",
    "        task = task_sample\n",
    "    else:\n",
    "        break"
   ]
  },
  {
   "cell_type": "code",
   "execution_count": null,
   "id": "d7e36ba3",
   "metadata": {},
   "outputs": [],
   "source": [
    "type(task)"
   ]
  },
  {
   "cell_type": "code",
   "execution_count": null,
   "id": "7292adbe",
   "metadata": {},
   "outputs": [],
   "source": [
    "task.name"
   ]
  },
  {
   "cell_type": "markdown",
   "id": "92cd838c",
   "metadata": {},
   "source": [
    "The iterable can be used to assemble batches of tasks, as seen in `maml_train.py`. \n",
    "\n",
    "## Drawing Molecule Samples -> Making a Task Sample\n",
    "\n",
    "In practice, all methods require that we sample from the `FSMolTask`s. This is accomplished by building on the `TaskSampler` abstract class, which requires a `sample` method. As an example of this, the few-shot learning methods in `FS-Mol` utilise stratified sampling, where the resulting balance of classes reflects that in the overall dataset. \n",
    "\n",
    "To deal with the datasets being small, we require in training a minimal support set size, a minimal query set size, and also supply an upper desired query set size. When a task dataset cannot be sampled to achieve this, and error is thrown and caught, enabling training to continue. "
   ]
  },
  {
   "cell_type": "code",
   "execution_count": null,
   "id": "e479f524",
   "metadata": {},
   "outputs": [],
   "source": [
    "from data import StratifiedTaskSampler"
   ]
  },
  {
   "cell_type": "code",
   "execution_count": null,
   "id": "d9e5fc99",
   "metadata": {},
   "outputs": [],
   "source": [
    "task_sampler = StratifiedTaskSampler(train_size_or_ratio = 16,\n",
    "                                    valid_size_or_ratio = 0.0,\n",
    "                                    test_size_or_ratio = 256, \n",
    "                                    allow_smaller_test = True)"
   ]
  },
  {
   "cell_type": "code",
   "execution_count": null,
   "id": "0110f333",
   "metadata": {},
   "outputs": [],
   "source": [
    "task_sample = task_sampler.sample(task)"
   ]
  },
  {
   "cell_type": "markdown",
   "id": "55542f29",
   "metadata": {},
   "source": [
    "Applying a sampler returns a sample from the task, which contains a support/train set, validation set, and query/test set. In this case, the task is too small to return all requested testing samples, so it returns the maximum available."
   ]
  },
  {
   "cell_type": "code",
   "execution_count": null,
   "id": "8df04c92",
   "metadata": {},
   "outputs": [],
   "source": [
    "print(f\"Number of train samples: {len(task_sample.train_samples)}\")\n",
    "print(f\"Number of test samples: {len(task_sample.test_samples)}\")\n",
    "print(f\"Number of valid samples: {len(task_sample.valid_samples)}\")"
   ]
  },
  {
   "cell_type": "code",
   "execution_count": null,
   "id": "36a5267e",
   "metadata": {},
   "outputs": [],
   "source": [
    "type(task_sample.train_samples[0])"
   ]
  },
  {
   "cell_type": "markdown",
   "id": "088cc893",
   "metadata": {},
   "source": [
    "A balanced sampler (equal proportion of both classes) and random sampler (random draws from the entire task dataset) are also implemented in `data/fsmol_task_sampler.py`"
   ]
  },
  {
   "cell_type": "markdown",
   "id": "57f928b4",
   "metadata": {},
   "source": [
    "## Custom task reading functions\n",
    "\n",
    "Line 215 of `maml_train.py` implements a custom task reading function that is consumed by `dataset.get_task_reading_iterable(task_reader_fn=...)`. This stands as an example of custom reading -- the data is simultaneously read in from disk and sampled by tyhe `StratidiedTaskSampler`."
   ]
  },
  {
   "cell_type": "markdown",
   "id": "f0493111",
   "metadata": {},
   "source": [
    "## Batching task samples\n",
    "\n",
    "`maml_train.py` Line 113 also demonstrates the batching functionality provided in `FS-Mol`: the train samples of a `FSMolTaskSample` are batched to be appropriate for mini-batch gradient descent, in a `TFGraphBatchIterable`. \n",
    "\n",
    "This is an instance of the more general `FSMolBatchIterable`, which uses an `FSMolBatcher` to return complete batches of samples."
   ]
  },
  {
   "cell_type": "code",
   "execution_count": null,
   "id": "a07f9e88",
   "metadata": {},
   "outputs": [],
   "source": [
    "from utils.maml_data_utils import TFGraphBatchIterable"
   ]
  },
  {
   "cell_type": "code",
   "execution_count": null,
   "id": "7f4d2bff",
   "metadata": {},
   "outputs": [],
   "source": [
    "batched_data = TFGraphBatchIterable(\n",
    "                samples=task_sample.train_samples,\n",
    "                shuffle=True,\n",
    "                max_num_nodes=100,\n",
    "            )"
   ]
  },
  {
   "cell_type": "code",
   "execution_count": null,
   "id": "b4aaa180",
   "metadata": {},
   "outputs": [],
   "source": [
    "for i, batch in enumerate(batched_data):\n",
    "    data = batch\n"
   ]
  },
  {
   "cell_type": "code",
   "execution_count": null,
   "id": "53c684d1",
   "metadata": {},
   "outputs": [],
   "source": [
    "data[1]"
   ]
  },
  {
   "cell_type": "markdown",
   "id": "90797ad9",
   "metadata": {},
   "source": [
    "Another implementation of the batcher is found in `MultitaskTaskSampleBatchIterable` as consumed in Line 532 of `fs_mol/multitask_train.py`. However we note that the FSMolDataset can be used flexibly, as demonstrated by, for instance, `fs_mol/mat_test.py`"
   ]
  },
  {
   "cell_type": "code",
   "execution_count": null,
   "id": "560e22bb",
   "metadata": {},
   "outputs": [],
   "source": []
  }
 ],
 "metadata": {
  "kernelspec": {
   "display_name": "fsmol",
   "language": "python",
   "name": "fsmol"
  },
  "language_info": {
   "codemirror_mode": {
    "name": "ipython",
    "version": 3
   },
   "file_extension": ".py",
   "mimetype": "text/x-python",
   "name": "python",
   "nbconvert_exporter": "python",
   "pygments_lexer": "ipython3",
   "version": "3.7.10"
  }
 },
 "nbformat": 4,
 "nbformat_minor": 5
}
