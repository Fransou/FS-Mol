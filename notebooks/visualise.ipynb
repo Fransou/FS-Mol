{
 "cells": [
  {
   "cell_type": "markdown",
   "id": "approved-hotel",
   "metadata": {},
   "source": [
    "# Plotting Few-Shot Model Evaluation Results\n",
    "\n",
    "Assembling plots from summary files."
   ]
  },
  {
   "cell_type": "code",
   "execution_count": null,
   "id": "roman-feeling",
   "metadata": {},
   "outputs": [],
   "source": [
    "import os\n",
    "import sys\n",
    "import pandas as pd\n",
    "import numpy as np\n",
    "import matplotlib.pyplot as plt\n",
    "import matplotlib.cm as cm\n",
    "\n",
    "# Setting up local details:\n",
    "# This should be the location of the checkout of the FS-Mol repository:\n",
    "FS_MOL_CHECKOUT_PATH = os.path.join(os.environ['HOME'], \"Projects\", \"FS-Mol\")\n",
    "FS_MOL_DATASET_PATH = os.path.join(os.environ['HOME'], \"Datasets\", \"FS-Mol\")\n",
    "\n",
    "os.chdir(FS_MOL_CHECKOUT_PATH)\n",
    "sys.path.insert(0, FS_MOL_CHECKOUT_PATH)\n",
    "\n",
    "from fs_mol.plotting.utils import (\n",
    "    highlight_max_all, \n",
    "    plot_all_assays, \n",
    "    load_data,\n",
    "    expand_values,\n",
    "    plot_task_performances_by_id,\n",
    "    aggregate_by_class,\n",
    "    box_plot,\n",
    "    plot_by_size,\n",
    "    get_aggregates_across_sizes\n",
    ")"
   ]
  },
  {
   "cell_type": "markdown",
   "id": "e1c1abbb",
   "metadata": {},
   "source": [
    "## Making summary files\n",
    "\n",
    "Summary files are obtained by running `fs_mol/plotting/collect_eval_runs.py` on the outputs of evaluation runs. If an evaluation output directory is \"evaluation_output_directory\" then summary files are created with: "
   ]
  },
  {
   "cell_type": "code",
   "execution_count": null,
   "id": "e5861b7f",
   "metadata": {},
   "outputs": [],
   "source": [
    "! python fs_mol/plotting/collect_eval_runs.py {model_name} {evaluation_output_directory} --plot"
   ]
  },
  {
   "cell_type": "markdown",
   "id": "c4575764",
   "metadata": {},
   "source": [
    "The option `--plot` results in a plot across support set sizes for each few-shot testing task. Final summarized results will be found in \"evaluation_output_directory/summary/{model_name}_summary.csv\""
   ]
  },
  {
   "cell_type": "markdown",
   "id": "buried-psychiatry",
   "metadata": {},
   "source": [
    "## Loading the collated evaluation data\n",
    "\n",
    "Create a dictionary of all model summary .csvs to be compared. The csvs are the final summaries from `collect_eval_runs.py`"
   ]
  },
  {
   "cell_type": "code",
   "execution_count": null,
   "id": "verbal-tobacco",
   "metadata": {},
   "outputs": [],
   "source": [
    "# Configure this to contain all the models that you want to look at.\n",
    "# Dict keys are human readable names, values are the path to the summary produced by collect_eval_runs.py\n",
    "results_path = os.path.join(FS_MOL_DATASET_PATH, \"results/\")\n",
    "\n",
    "# a dictionary summarising all models to be compared. Add new paths here as desired.\n",
    "model_summaries = {\n",
    "    \"GNN-MAML\": results_path + (\"MAML-Support16_summary.csv\"),\n",
    "#     \"PN\": results_path + (\"PN_summary.csv\"),\n",
    "    \"GNN-MT\": results_path + \"GNN-Multitask_summary.csv\",\n",
    "    \"ST\": results_path + \"random_forest_summary.csv\",\n",
    "    \"GNN-ST\": results_path + \"GNN-ST_summary.csv\",\n",
    "    \"kNN\": results_path + \"kNN_summary.csv\",\n",
    "#     \"MAT\": results_path + \"MAT_summary.csv\",\n",
    "}\n",
    "# Generated plots will be stored here, if you want to keep them. None disables saving.\n",
    "plot_output_dir = results_path + \"plots/\"\n",
    "os.makedirs(plot_output_dir, exist_ok=True)"
   ]
  },
  {
   "cell_type": "code",
   "execution_count": null,
   "id": "c81422d0",
   "metadata": {},
   "outputs": [],
   "source": [
    "data = load_data(model_summaries)"
   ]
  },
  {
   "cell_type": "markdown",
   "id": "miniature-patient",
   "metadata": {},
   "source": [
    "## Highlight the best result for each task"
   ]
  },
  {
   "cell_type": "code",
   "execution_count": null,
   "id": "prescribed-suffering",
   "metadata": {
    "scrolled": true
   },
   "outputs": [],
   "source": [
    "styled_df = data.style.apply(lambda row: highlight_max_all(row), axis=1)\n",
    "# To save for exporting purposes, uncomment this:\n",
    "styled_df.to_excel(os.path.join(plot_output_dir, f\"all_model_highlighted_comparison.xlsx\"), engine='xlsxwriter')\n",
    "\n",
    "styled_df"
   ]
  },
  {
   "cell_type": "code",
   "execution_count": null,
   "id": "flexible-patrol",
   "metadata": {},
   "outputs": [],
   "source": [
    "# expand out from val +/- error format, and calculate delta AUPRC\n",
    "data = expand_values(data, model_summaries)"
   ]
  },
  {
   "cell_type": "markdown",
   "id": "missing-pillow",
   "metadata": {},
   "source": [
    "## Performance Overview over all Tasks\n",
    "\n",
    "This compares with the trivial baseline of using a weighted coinflip according to the class imbalance in the training data."
   ]
  },
  {
   "cell_type": "code",
   "execution_count": null,
   "id": "732f0776",
   "metadata": {},
   "outputs": [],
   "source": [
    "plot_task_performances_by_id(data, model_summaries, support_set_size = 16)"
   ]
  },
  {
   "cell_type": "markdown",
   "id": "physical-manhattan",
   "metadata": {},
   "source": [
    "### Incorporate protein information\n",
    "\n",
    "Our test tasks have associated target protein information available. We can merge this data to allow plotting with specific EC number classes highlighted."
   ]
  },
  {
   "cell_type": "code",
   "execution_count": null,
   "id": "100609e8",
   "metadata": {},
   "outputs": [],
   "source": [
    "protein_path =os.path.join(FS_MOL_CHECKOUT_PATH, \"datasets/targets/test_proteins.csv\")\n",
    "ecs =pd.read_csv(protein_path)\n",
    "ecs[\"target_id\"] = ecs[\"target_id\"].astype(int).astype(str)\n",
    "ecs[\"chembl_id\"] = ecs[\"chembl_id\"].astype(str)\n",
    "ecs[\"TASK_ID\"] = ecs.apply(lambda row: row[\"chembl_id\"][6:], axis = 1)\n",
    "\n",
    "data = ecs.merge(data, on=\"TASK_ID\")"
   ]
  },
  {
   "cell_type": "code",
   "execution_count": null,
   "id": "3b35700d",
   "metadata": {},
   "outputs": [],
   "source": [
    "# the highlight class is the EC class that will be highlighted in the resulting plot. \n",
    "# You may wish to use this for comparison across different EC classes.\n",
    "plot_task_performances_by_id(data, model_summaries, support_set_size = 16, highlight_class =2)"
   ]
  },
  {
   "cell_type": "markdown",
   "id": "regular-monitoring",
   "metadata": {},
   "source": [
    "## Plot for each task, comparing different models\n",
    "\n",
    "This makes an individual comparison plot over models for each few-shot testing task, across all support set sizes available"
   ]
  },
  {
   "cell_type": "code",
   "execution_count": null,
   "id": "fitting-class",
   "metadata": {},
   "outputs": [],
   "source": [
    "plot_all_assays(data, model_summaries.keys(), results_dir = plot_output_dir)"
   ]
  },
  {
   "cell_type": "markdown",
   "id": "inclusive-screen",
   "metadata": {},
   "source": [
    "# Summarise the overall performance in box plots\n",
    "\n",
    "This reproduces the model comparison box plots in the manuscript."
   ]
  },
  {
   "cell_type": "code",
   "execution_count": null,
   "id": "0e4d59f3",
   "metadata": {},
   "outputs": [],
   "source": [
    "box_plot(data, model_summaries, support_set_size = 16)"
   ]
  },
  {
   "cell_type": "markdown",
   "id": "multiple-laundry",
   "metadata": {},
   "source": [
    "## Aggregate as a function of the number of training points, across all categories\n",
    "\n",
    "Here the results are aggregated according to EC class, and across all classes. This is used to plot the variation of performance with support set size, comparing all models in the model_summaries dictionary. "
   ]
  },
  {
   "cell_type": "code",
   "execution_count": null,
   "id": "checked-flush",
   "metadata": {},
   "outputs": [],
   "source": [
    "aggregate_df = get_aggregates_across_sizes(data, model_summaries)"
   ]
  },
  {
   "cell_type": "code",
   "execution_count": null,
   "id": "stupid-cutting",
   "metadata": {},
   "outputs": [],
   "source": [
    "aggregate_df"
   ]
  },
  {
   "cell_type": "code",
   "execution_count": null,
   "id": "buried-refrigerator",
   "metadata": {},
   "outputs": [],
   "source": [
    "# this function has the option to plot all classes separately.\n",
    "plot_by_size(aggregate_df, model_summaries, plot_output_dir = plot_output_dir)"
   ]
  },
  {
   "cell_type": "markdown",
   "id": "f3376a2d",
   "metadata": {},
   "source": [
    "# Ranking\n",
    "\n",
    "Here we use [autorank](https://pypi.org/project/autorank/) for an appropriate comparison between all methods when evaluated on multiple tasks.\n"
   ]
  },
  {
   "cell_type": "code",
   "execution_count": null,
   "id": "f9962775",
   "metadata": {},
   "outputs": [],
   "source": [
    "from autorank import autorank\n",
    "\n",
    "# select correct data to rank with autorank\n",
    "for size in [16]:\n",
    "\n",
    "    df = data[[x for x in list(data.columns) if x.startswith(f\"{size}\") and \"val\" in x and \"delta-auprc\" in x]]"
   ]
  },
  {
   "cell_type": "code",
   "execution_count": null,
   "id": "331caf1d",
   "metadata": {},
   "outputs": [],
   "source": [
    "result = autorank(df, verbose=False)\n",
    "result.rankdf[\"meanrank\"]"
   ]
  },
  {
   "cell_type": "code",
   "execution_count": null,
   "id": "28fc28e0",
   "metadata": {},
   "outputs": [],
   "source": []
  }
 ],
 "metadata": {
  "kernelspec": {
   "display_name": "fsmol",
   "language": "python",
   "name": "fsmol"
  },
  "language_info": {
   "codemirror_mode": {
    "name": "ipython",
    "version": 3
   },
   "file_extension": ".py",
   "mimetype": "text/x-python",
   "name": "python",
   "nbconvert_exporter": "python",
   "pygments_lexer": "ipython3",
   "version": "3.7.10"
  }
 },
 "nbformat": 4,
 "nbformat_minor": 5
}
